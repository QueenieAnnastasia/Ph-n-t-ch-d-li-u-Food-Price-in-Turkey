{
 "cells": [
  {
   "cell_type": "code",
   "execution_count": 4,
   "id": "98464eb0",
   "metadata": {},
   "outputs": [
    {
     "data": {
      "text/html": [
       "<div>\n",
       "<style scoped>\n",
       "    .dataframe tbody tr th:only-of-type {\n",
       "        vertical-align: middle;\n",
       "    }\n",
       "\n",
       "    .dataframe tbody tr th {\n",
       "        vertical-align: top;\n",
       "    }\n",
       "\n",
       "    .dataframe thead th {\n",
       "        text-align: right;\n",
       "    }\n",
       "</style>\n",
       "<table border=\"1\" class=\"dataframe\">\n",
       "  <thead>\n",
       "    <tr style=\"text-align: right;\">\n",
       "      <th></th>\n",
       "      <th>Place</th>\n",
       "      <th>ProductId</th>\n",
       "      <th>ProductName</th>\n",
       "      <th>UmId</th>\n",
       "      <th>UmName</th>\n",
       "      <th>Month</th>\n",
       "      <th>Year</th>\n",
       "      <th>Price</th>\n",
       "    </tr>\n",
       "  </thead>\n",
       "  <tbody>\n",
       "    <tr>\n",
       "      <th>0</th>\n",
       "      <td>National Average</td>\n",
       "      <td>52</td>\n",
       "      <td>Rice - Retail</td>\n",
       "      <td>5</td>\n",
       "      <td>KG</td>\n",
       "      <td>5</td>\n",
       "      <td>2013</td>\n",
       "      <td>4.4920</td>\n",
       "    </tr>\n",
       "    <tr>\n",
       "      <th>1</th>\n",
       "      <td>National Average</td>\n",
       "      <td>52</td>\n",
       "      <td>Rice - Retail</td>\n",
       "      <td>5</td>\n",
       "      <td>KG</td>\n",
       "      <td>6</td>\n",
       "      <td>2013</td>\n",
       "      <td>4.5786</td>\n",
       "    </tr>\n",
       "    <tr>\n",
       "      <th>2</th>\n",
       "      <td>National Average</td>\n",
       "      <td>52</td>\n",
       "      <td>Rice - Retail</td>\n",
       "      <td>5</td>\n",
       "      <td>KG</td>\n",
       "      <td>11</td>\n",
       "      <td>2013</td>\n",
       "      <td>4.7865</td>\n",
       "    </tr>\n",
       "    <tr>\n",
       "      <th>3</th>\n",
       "      <td>National Average</td>\n",
       "      <td>52</td>\n",
       "      <td>Rice - Retail</td>\n",
       "      <td>5</td>\n",
       "      <td>KG</td>\n",
       "      <td>12</td>\n",
       "      <td>2013</td>\n",
       "      <td>5.1337</td>\n",
       "    </tr>\n",
       "    <tr>\n",
       "      <th>4</th>\n",
       "      <td>National Average</td>\n",
       "      <td>52</td>\n",
       "      <td>Rice - Retail</td>\n",
       "      <td>5</td>\n",
       "      <td>KG</td>\n",
       "      <td>1</td>\n",
       "      <td>2014</td>\n",
       "      <td>5.5099</td>\n",
       "    </tr>\n",
       "  </tbody>\n",
       "</table>\n",
       "</div>"
      ],
      "text/plain": [
       "              Place  ProductId    ProductName  UmId UmName  Month  Year  \\\n",
       "0  National Average         52  Rice - Retail     5     KG      5  2013   \n",
       "1  National Average         52  Rice - Retail     5     KG      6  2013   \n",
       "2  National Average         52  Rice - Retail     5     KG     11  2013   \n",
       "3  National Average         52  Rice - Retail     5     KG     12  2013   \n",
       "4  National Average         52  Rice - Retail     5     KG      1  2014   \n",
       "\n",
       "    Price  \n",
       "0  4.4920  \n",
       "1  4.5786  \n",
       "2  4.7865  \n",
       "3  5.1337  \n",
       "4  5.5099  "
      ]
     },
     "execution_count": 4,
     "metadata": {},
     "output_type": "execute_result"
    }
   ],
   "source": [
    "import pandas as pd\n",
    "data = pd.read_csv('FoodPrice_in_Turkey.csv', header = 0, encoding = \"ISO - 8859-1\") # Không khai báo gì thì encoding là Unicode\n",
    "data.head()"
   ]
  },
  {
   "cell_type": "markdown",
   "id": "490c1cac",
   "metadata": {},
   "source": [
    "### Kiểm tra thông tin"
   ]
  },
  {
   "cell_type": "code",
   "execution_count": 5,
   "id": "f7c6c396",
   "metadata": {},
   "outputs": [
    {
     "name": "stdout",
     "output_type": "stream",
     "text": [
      "<class 'pandas.core.frame.DataFrame'>\n",
      "RangeIndex: 7381 entries, 0 to 7380\n",
      "Data columns (total 8 columns):\n",
      " #   Column       Non-Null Count  Dtype  \n",
      "---  ------       --------------  -----  \n",
      " 0   Place        7381 non-null   object \n",
      " 1   ProductId    7381 non-null   int64  \n",
      " 2   ProductName  7381 non-null   object \n",
      " 3   UmId         7381 non-null   int64  \n",
      " 4   UmName       7381 non-null   object \n",
      " 5   Month        7381 non-null   int64  \n",
      " 6   Year         7381 non-null   int64  \n",
      " 7   Price        7381 non-null   float64\n",
      "dtypes: float64(1), int64(4), object(3)\n",
      "memory usage: 461.4+ KB\n"
     ]
    }
   ],
   "source": [
    "data.info()"
   ]
  },
  {
   "cell_type": "markdown",
   "id": "e624dfaa",
   "metadata": {},
   "source": [
    "## Giải đáp thắc mắc"
   ]
  },
  {
   "cell_type": "markdown",
   "id": "9862fb55",
   "metadata": {},
   "source": [
    "### 1. Bộ dữ liệu chứa bao nhiêu dòng, bao nhiêu cột"
   ]
  },
  {
   "cell_type": "markdown",
   "id": "e12c63f5",
   "metadata": {},
   "source": [
    "Bộ dữ liệu có 8 cột, 7381 dòng"
   ]
  },
  {
   "cell_type": "markdown",
   "id": "1d1e8860",
   "metadata": {},
   "source": [
    "### 2. Thang đo tương ứng của các thuộc tính được lưu trữ"
   ]
  },
  {
   "cell_type": "markdown",
   "id": "af9a0bc4",
   "metadata": {},
   "source": [
    "Thang đo định danh: Place, ProductName, UmName, ProductID, UmID\n",
    "Thang đo tỉ lệ: Month, Year, Price"
   ]
  },
  {
   "cell_type": "markdown",
   "id": "fc06e227",
   "metadata": {},
   "source": [
    "### 3. Giá trung bình của từng loại thực phẩm là bao nhiêu"
   ]
  },
  {
   "cell_type": "code",
   "execution_count": 15,
   "id": "e29f6198",
   "metadata": {},
   "outputs": [
    {
     "data": {
      "text/plain": [
       "ProductName\n",
       "Apples (red) - Retail      2.392193\n",
       "Apples - Retail            3.885039\n",
       "Bananas - Retail           8.224784\n",
       "Beans (white) - Retail     9.572830\n",
       "Bread (common) - Retail    4.463293\n",
       "Name: Price, dtype: float64"
      ]
     },
     "execution_count": 15,
     "metadata": {},
     "output_type": "execute_result"
    }
   ],
   "source": [
    "Ave_price = data.groupby('ProductName')['Price'].mean()\n",
    "Ave_price.head()"
   ]
  },
  {
   "cell_type": "markdown",
   "id": "39d8853f",
   "metadata": {},
   "source": [
    "### 4. Đề xuất những loại phân tích mà bạn muốn biết mà bộ dữ liệu này có thể cung cấp"
   ]
  },
  {
   "cell_type": "code",
   "execution_count": null,
   "id": "3191c9b9",
   "metadata": {},
   "outputs": [],
   "source": [
    "+ Top 10 loại thực phẩm giá cao nhất\n",
    "+ Top 10 loại thực phhẩm giá thấp nhất"
   ]
  }
 ],
 "metadata": {
  "kernelspec": {
   "display_name": "Python 3 (ipykernel)",
   "language": "python",
   "name": "python3"
  },
  "language_info": {
   "codemirror_mode": {
    "name": "ipython",
    "version": 3
   },
   "file_extension": ".py",
   "mimetype": "text/x-python",
   "name": "python",
   "nbconvert_exporter": "python",
   "pygments_lexer": "ipython3",
   "version": "3.9.12"
  }
 },
 "nbformat": 4,
 "nbformat_minor": 5
}
